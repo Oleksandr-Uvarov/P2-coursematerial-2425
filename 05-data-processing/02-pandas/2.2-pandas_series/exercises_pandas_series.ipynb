{
 "cells": [
  {
   "cell_type": "markdown",
   "metadata": {},
   "source": [
    "# Exercises pandas Series"
   ]
  },
  {
   "cell_type": "code",
   "execution_count": 3,
   "metadata": {},
   "outputs": [],
   "source": [
    "#Import the necessary packages\n",
    "import pandas as pd\n",
    "import numpy as np\n"
   ]
  },
  {
   "cell_type": "markdown",
   "metadata": {},
   "source": [
    "## 1. Train delay\n",
    "### Part 1"
   ]
  },
  {
   "cell_type": "markdown",
   "metadata": {},
   "source": [
    "`delay_data` is a dictionary containing the average delay (in minutes) the trains of a certain station have. \n",
    "* Create a Series `train_delay` using this dictionary"
   ]
  },
  {
   "cell_type": "code",
   "execution_count": 4,
   "metadata": {},
   "outputs": [
    {
     "data": {
      "text/plain": [
       "Brussel      6.34\n",
       "Antwerpen    5.45\n",
       "Brugge       4.12\n",
       "Gent         2.45\n",
       "Hasselt      6.08\n",
       "dtype: float64"
      ]
     },
     "execution_count": 4,
     "metadata": {},
     "output_type": "execute_result"
    }
   ],
   "source": [
    "delay_data = {\"Brussel\": 6.34, \"Antwerpen\": 5.45, \"Brugge\": 4.12, \"Gent\": 2.45, \"Hasselt\": 6.08}\n",
    "\n",
    "train_delay = pd.Series(delay_data)\n",
    "\n",
    "train_delay"
   ]
  },
  {
   "cell_type": "markdown",
   "metadata": {},
   "source": [
    "Some cities have several stations, which is not specified in the dictionary. Change the index of Brussel, Antwerpen and Gent, to Brussel-Centraal, Antwerpen-Centraal and Gent-Sint-Pieters respectively."
   ]
  },
  {
   "cell_type": "code",
   "execution_count": 13,
   "metadata": {},
   "outputs": [
    {
     "data": {
      "text/plain": [
       "Brussel-Zuid          6.34\n",
       "Antwerpen-Centraal    5.45\n",
       "Brugge                test\n",
       "Gent-Sint-Pieters     2.45\n",
       "Hasselt               6.08\n",
       "dtype: object"
      ]
     },
     "execution_count": 13,
     "metadata": {},
     "output_type": "execute_result"
    }
   ],
   "source": [
    "# Your code\n",
    "train_delay.index = [\"Brussel-Centraal\", \"Antwerpen-Centraal\", \"Brugge\",  \"Gent-Sint-Pieters\", \"Hasselt\"]\n",
    "train_delay.loc[\"Brugge\"] = \"test\"\n",
    "train_delay.rename(index={\"Brussel-Centraal\": \"Brussel-Zuid\"}, inplace=True)\n",
    "train_delay"
   ]
  },
  {
   "cell_type": "markdown",
   "metadata": {},
   "source": [
    "* Create a new Series only containing the data of Brussels and Gent."
   ]
  },
  {
   "cell_type": "code",
   "execution_count": 6,
   "metadata": {},
   "outputs": [
    {
     "name": "stderr",
     "output_type": "stream",
     "text": [
      "C:\\Users\\sashk\\AppData\\Local\\Temp\\ipykernel_34780\\3438165624.py:2: FutureWarning: Series.__getitem__ treating keys as positions is deprecated. In a future version, integer keys will always be treated as labels (consistent with DataFrame behavior). To access a value by position, use `ser.iloc[pos]`\n",
      "  limited_data = pd.Series({train_delay.index[0]: train_delay[0], train_delay.index[4]: train_delay[4]})\n"
     ]
    },
    {
     "data": {
      "text/plain": [
       "Brussel-Centraal    6.34\n",
       "Hasselt             6.08\n",
       "dtype: float64"
      ]
     },
     "execution_count": 6,
     "metadata": {},
     "output_type": "execute_result"
    }
   ],
   "source": [
    "# Your code\n",
    "limited_data = pd.Series({train_delay.index[0]: train_delay[0], train_delay.index[4]: train_delay[4]})\n",
    "\n",
    "limited_data"
   ]
  },
  {
   "cell_type": "markdown",
   "metadata": {},
   "source": [
    "### Train delay part 2"
   ]
  },
  {
   "cell_type": "markdown",
   "metadata": {},
   "source": [
    "* Display the average delay time of Antwerpen."
   ]
  },
  {
   "cell_type": "code",
   "execution_count": 7,
   "metadata": {},
   "outputs": [
    {
     "name": "stderr",
     "output_type": "stream",
     "text": [
      "C:\\Users\\sashk\\AppData\\Local\\Temp\\ipykernel_34780\\1982536416.py:2: FutureWarning: Series.__getitem__ treating keys as positions is deprecated. In a future version, integer keys will always be treated as labels (consistent with DataFrame behavior). To access a value by position, use `ser.iloc[pos]`\n",
      "  train_delay[1]\n"
     ]
    },
    {
     "data": {
      "text/plain": [
       "5.45"
      ]
     },
     "execution_count": 7,
     "metadata": {},
     "output_type": "execute_result"
    }
   ],
   "source": [
    "\n",
    "# Your code\n",
    "train_delay[1]"
   ]
  },
  {
   "cell_type": "markdown",
   "metadata": {},
   "source": [
    "Rumors say that train company *Chuck Chuck* only labels a train as delayed when they arrive at least 6 minutes late. Filter the series to only show the stations with an average delay of at least 6 minutes. Save the resulting Series in a new variable."
   ]
  },
  {
   "cell_type": "code",
   "execution_count": 8,
   "metadata": {},
   "outputs": [
    {
     "ename": "TypeError",
     "evalue": "'>' not supported between instances of 'str' and 'int'",
     "output_type": "error",
     "traceback": [
      "\u001b[31m---------------------------------------------------------------------------\u001b[39m",
      "\u001b[31mTypeError\u001b[39m                                 Traceback (most recent call last)",
      "\u001b[36mCell\u001b[39m\u001b[36m \u001b[39m\u001b[32mIn[8]\u001b[39m\u001b[32m, line 5\u001b[39m\n\u001b[32m      1\u001b[39m \u001b[38;5;66;03m# Your code\u001b[39;00m\n\u001b[32m      2\u001b[39m \n\u001b[32m      3\u001b[39m \u001b[38;5;66;03m# train_delay > 6\u001b[39;00m\n\u001b[32m----> \u001b[39m\u001b[32m5\u001b[39m chuck_chuck = train_delay[\u001b[43mtrain_delay\u001b[49m\u001b[43m \u001b[49m\u001b[43m>\u001b[49m\u001b[43m \u001b[49m\u001b[32;43m6\u001b[39;49m]\n\u001b[32m      7\u001b[39m chuck_chuck\n",
      "\u001b[36mFile \u001b[39m\u001b[32mc:\\Users\\sashk\\AppData\\Local\\Programs\\Python\\Python311\\Lib\\site-packages\\pandas\\core\\ops\\common.py:76\u001b[39m, in \u001b[36m_unpack_zerodim_and_defer.<locals>.new_method\u001b[39m\u001b[34m(self, other)\u001b[39m\n\u001b[32m     72\u001b[39m             \u001b[38;5;28;01mreturn\u001b[39;00m \u001b[38;5;28mNotImplemented\u001b[39m\n\u001b[32m     74\u001b[39m other = item_from_zerodim(other)\n\u001b[32m---> \u001b[39m\u001b[32m76\u001b[39m \u001b[38;5;28;01mreturn\u001b[39;00m \u001b[43mmethod\u001b[49m\u001b[43m(\u001b[49m\u001b[38;5;28;43mself\u001b[39;49m\u001b[43m,\u001b[49m\u001b[43m \u001b[49m\u001b[43mother\u001b[49m\u001b[43m)\u001b[49m\n",
      "\u001b[36mFile \u001b[39m\u001b[32mc:\\Users\\sashk\\AppData\\Local\\Programs\\Python\\Python311\\Lib\\site-packages\\pandas\\core\\arraylike.py:56\u001b[39m, in \u001b[36mOpsMixin.__gt__\u001b[39m\u001b[34m(self, other)\u001b[39m\n\u001b[32m     54\u001b[39m \u001b[38;5;129m@unpack_zerodim_and_defer\u001b[39m(\u001b[33m\"\u001b[39m\u001b[33m__gt__\u001b[39m\u001b[33m\"\u001b[39m)\n\u001b[32m     55\u001b[39m \u001b[38;5;28;01mdef\u001b[39;00m\u001b[38;5;250m \u001b[39m\u001b[34m__gt__\u001b[39m(\u001b[38;5;28mself\u001b[39m, other):\n\u001b[32m---> \u001b[39m\u001b[32m56\u001b[39m     \u001b[38;5;28;01mreturn\u001b[39;00m \u001b[38;5;28;43mself\u001b[39;49m\u001b[43m.\u001b[49m\u001b[43m_cmp_method\u001b[49m\u001b[43m(\u001b[49m\u001b[43mother\u001b[49m\u001b[43m,\u001b[49m\u001b[43m \u001b[49m\u001b[43moperator\u001b[49m\u001b[43m.\u001b[49m\u001b[43mgt\u001b[49m\u001b[43m)\u001b[49m\n",
      "\u001b[36mFile \u001b[39m\u001b[32mc:\\Users\\sashk\\AppData\\Local\\Programs\\Python\\Python311\\Lib\\site-packages\\pandas\\core\\series.py:6119\u001b[39m, in \u001b[36mSeries._cmp_method\u001b[39m\u001b[34m(self, other, op)\u001b[39m\n\u001b[32m   6116\u001b[39m lvalues = \u001b[38;5;28mself\u001b[39m._values\n\u001b[32m   6117\u001b[39m rvalues = extract_array(other, extract_numpy=\u001b[38;5;28;01mTrue\u001b[39;00m, extract_range=\u001b[38;5;28;01mTrue\u001b[39;00m)\n\u001b[32m-> \u001b[39m\u001b[32m6119\u001b[39m res_values = \u001b[43mops\u001b[49m\u001b[43m.\u001b[49m\u001b[43mcomparison_op\u001b[49m\u001b[43m(\u001b[49m\u001b[43mlvalues\u001b[49m\u001b[43m,\u001b[49m\u001b[43m \u001b[49m\u001b[43mrvalues\u001b[49m\u001b[43m,\u001b[49m\u001b[43m \u001b[49m\u001b[43mop\u001b[49m\u001b[43m)\u001b[49m\n\u001b[32m   6121\u001b[39m \u001b[38;5;28;01mreturn\u001b[39;00m \u001b[38;5;28mself\u001b[39m._construct_result(res_values, name=res_name)\n",
      "\u001b[36mFile \u001b[39m\u001b[32mc:\\Users\\sashk\\AppData\\Local\\Programs\\Python\\Python311\\Lib\\site-packages\\pandas\\core\\ops\\array_ops.py:344\u001b[39m, in \u001b[36mcomparison_op\u001b[39m\u001b[34m(left, right, op)\u001b[39m\n\u001b[32m    341\u001b[39m     \u001b[38;5;28;01mreturn\u001b[39;00m invalid_comparison(lvalues, rvalues, op)\n\u001b[32m    343\u001b[39m \u001b[38;5;28;01melif\u001b[39;00m lvalues.dtype == \u001b[38;5;28mobject\u001b[39m \u001b[38;5;129;01mor\u001b[39;00m \u001b[38;5;28misinstance\u001b[39m(rvalues, \u001b[38;5;28mstr\u001b[39m):\n\u001b[32m--> \u001b[39m\u001b[32m344\u001b[39m     res_values = \u001b[43mcomp_method_OBJECT_ARRAY\u001b[49m\u001b[43m(\u001b[49m\u001b[43mop\u001b[49m\u001b[43m,\u001b[49m\u001b[43m \u001b[49m\u001b[43mlvalues\u001b[49m\u001b[43m,\u001b[49m\u001b[43m \u001b[49m\u001b[43mrvalues\u001b[49m\u001b[43m)\u001b[49m\n\u001b[32m    346\u001b[39m \u001b[38;5;28;01melse\u001b[39;00m:\n\u001b[32m    347\u001b[39m     res_values = _na_arithmetic_op(lvalues, rvalues, op, is_cmp=\u001b[38;5;28;01mTrue\u001b[39;00m)\n",
      "\u001b[36mFile \u001b[39m\u001b[32mc:\\Users\\sashk\\AppData\\Local\\Programs\\Python\\Python311\\Lib\\site-packages\\pandas\\core\\ops\\array_ops.py:129\u001b[39m, in \u001b[36mcomp_method_OBJECT_ARRAY\u001b[39m\u001b[34m(op, x, y)\u001b[39m\n\u001b[32m    127\u001b[39m     result = libops.vec_compare(x.ravel(), y.ravel(), op)\n\u001b[32m    128\u001b[39m \u001b[38;5;28;01melse\u001b[39;00m:\n\u001b[32m--> \u001b[39m\u001b[32m129\u001b[39m     result = \u001b[43mlibops\u001b[49m\u001b[43m.\u001b[49m\u001b[43mscalar_compare\u001b[49m\u001b[43m(\u001b[49m\u001b[43mx\u001b[49m\u001b[43m.\u001b[49m\u001b[43mravel\u001b[49m\u001b[43m(\u001b[49m\u001b[43m)\u001b[49m\u001b[43m,\u001b[49m\u001b[43m \u001b[49m\u001b[43my\u001b[49m\u001b[43m,\u001b[49m\u001b[43m \u001b[49m\u001b[43mop\u001b[49m\u001b[43m)\u001b[49m\n\u001b[32m    130\u001b[39m \u001b[38;5;28;01mreturn\u001b[39;00m result.reshape(x.shape)\n",
      "\u001b[36mFile \u001b[39m\u001b[32mops.pyx:107\u001b[39m, in \u001b[36mpandas._libs.ops.scalar_compare\u001b[39m\u001b[34m()\u001b[39m\n",
      "\u001b[31mTypeError\u001b[39m: '>' not supported between instances of 'str' and 'int'"
     ]
    }
   ],
   "source": [
    "# Your code\n",
    "\n",
    "# train_delay > 6\n",
    "\n",
    "chuck_chuck = train_delay[train_delay > 6]\n",
    "\n",
    "chuck_chuck"
   ]
  },
  {
   "cell_type": "markdown",
   "metadata": {},
   "source": [
    "Oops, there was a wrong data entry in the data set. The average train delay in Brussel-Centraal is not 6.34 min but 8.34 min. Change the data of our Series train_delay."
   ]
  },
  {
   "cell_type": "code",
   "execution_count": null,
   "metadata": {},
   "outputs": [
    {
     "name": "stderr",
     "output_type": "stream",
     "text": [
      "C:\\Users\\sashk\\AppData\\Local\\Temp\\ipykernel_38212\\1163815408.py:2: FutureWarning: Series.__setitem__ treating keys as positions is deprecated. In a future version, integer keys will always be treated as labels (consistent with DataFrame behavior). To set a value by position, use `ser.iloc[pos] = value`\n",
      "  train_delay[0] = 8.34\n"
     ]
    },
    {
     "data": {
      "text/plain": [
       "Brussel-Centraal      8.34\n",
       "Antwerpen-Centraal    5.45\n",
       "Brugge                4.12\n",
       "Gent-Sint-Pieters     2.45\n",
       "Hasselt               6.08\n",
       "dtype: float64"
      ]
     },
     "execution_count": 28,
     "metadata": {},
     "output_type": "execute_result"
    }
   ],
   "source": [
    "# Your code\n",
    "train_delay[0] = 8.34\n",
    "\n",
    "train_delay"
   ]
  },
  {
   "cell_type": "markdown",
   "metadata": {},
   "source": [
    "Display following data using the appropriate attribute.\n",
    "* The indices of the Series\n",
    "* The values of the Series\n",
    "* How many values the Series contains\n",
    "* The datatype of the elements of the Series"
   ]
  },
  {
   "cell_type": "code",
   "execution_count": null,
   "metadata": {},
   "outputs": [
    {
     "name": "stdout",
     "output_type": "stream",
     "text": [
      "Index(['Brussel-Centraal', 'Antwerpen-Centraal', 'Brugge', 'Gent-Sint-Pieters',\n",
      "       'Hasselt'],\n",
      "      dtype='object')\n",
      "[8.34 5.45 4.12 2.45 6.08]\n",
      "5\n",
      "<class 'numpy.float64'>\n"
     ]
    }
   ],
   "source": [
    "# Your code\n",
    "print(train_delay.index)\n",
    "print(train_delay.values)\n",
    "print(len(train_delay))\n",
    "# print(type(train_delay[0]))\n",
    "print(type(train_delay.iloc[0]))"
   ]
  },
  {
   "cell_type": "markdown",
   "metadata": {},
   "source": [
    "## 2. Zoo animals"
   ]
  },
  {
   "cell_type": "markdown",
   "metadata": {},
   "source": [
    "`Animal_counts` is a dictionary containing the amount of animals of a certain type are living in the local zoo. \n"
   ]
  },
  {
   "cell_type": "code",
   "execution_count": null,
   "metadata": {},
   "outputs": [],
   "source": [
    "animal_counts = {\n",
    "    \"Lion\": 5,\n",
    "    \"Elephant\": 3,\n",
    "    \"Giraffe\": 7,\n",
    "    \"Zebra\": 12,\n",
    "    \"Kangaroo\": 4,\n",
    "    \"Penguin\": 15,\n",
    "    \"Panda\": 2,\n",
    "    \"Tiger\": 6,\n",
    "    \"Flamingo\": 8,\n",
    "    \"Crocodile\": 3\n",
    "}"
   ]
  },
  {
   "cell_type": "markdown",
   "metadata": {},
   "source": [
    "**Basic Series operations**\n",
    "* Create a Series `zoo_animals` using this dictionary\n",
    "* Show how many Giraffes and Tigers there are.\n",
    "* Print the total number of animals in the zoo.\n",
    "* Print the list of animal species.\n",
    "* Print the list of animal counts."
   ]
  },
  {
   "cell_type": "code",
   "execution_count": null,
   "metadata": {},
   "outputs": [
    {
     "name": "stdout",
     "output_type": "stream",
     "text": [
      "7\n",
      "6\n",
      "Index(['Lion', 'Elephant', 'Giraffe', 'Zebra', 'Kangaroo', 'Penguin', 'Panda',\n",
      "       'Tiger', 'Flamingo', 'Crocodile'],\n",
      "      dtype='object')\n",
      "[ 5  3  7 12  4 15  2  6  8  3]\n"
     ]
    }
   ],
   "source": [
    "# Your code\n",
    "zoo_animals = pd.Series(animal_counts)\n",
    "print(zoo_animals[\"Giraffe\"])\n",
    "print(zoo_animals[\"Tiger\"])\n",
    "print(zoo_animals.index)\n",
    "print(zoo_animals.values)\n"
   ]
  },
  {
   "cell_type": "markdown",
   "metadata": {},
   "source": [
    "**Filtering and data manipulation**\n",
    "* Display the animals who are at least with 5 of their kind.\n",
    "* Create a new Series only containing the data of the animals with a count of 3 or less.\n",
    "* Jippieeee! A panda was born! Increase the number of pandas with 1.\n",
    "* Joan the Crocodile has found a lover in the Berlin zoo and moves together with their 2 mates to Berlin. Remove the crocodile data frome the Series.\n",
    "* Oops, we forgot to count the Koala's. Add 3 koala's to the Series."
   ]
  },
  {
   "cell_type": "code",
   "execution_count": null,
   "metadata": {},
   "outputs": [
    {
     "name": "stdout",
     "output_type": "stream",
     "text": [
      "Lion         5\n",
      "Giraffe      7\n",
      "Zebra       12\n",
      "Penguin     15\n",
      "Tiger        6\n",
      "Flamingo     8\n",
      "dtype: int64\n",
      "Elephant     3\n",
      "Crocodile    3\n",
      "Koala        3\n",
      "dtype: int64\n"
     ]
    },
    {
     "data": {
      "text/plain": [
       "Lion         5\n",
       "Elephant     3\n",
       "Giraffe      7\n",
       "Zebra       12\n",
       "Kangaroo     4\n",
       "Penguin     15\n",
       "Panda        5\n",
       "Tiger        6\n",
       "Flamingo     8\n",
       "Koala        3\n",
       "dtype: int64"
      ]
     },
     "execution_count": 39,
     "metadata": {},
     "output_type": "execute_result"
    }
   ],
   "source": [
    "# Your code\n",
    "print(zoo_animals[zoo_animals >= 5])\n",
    "print(zoo_animals[zoo_animals <= 3])\n",
    "zoo_animals[\"Panda\"] += 1 \n",
    "zoo_animals = zoo_animals.drop(\"Crocodile\")\n",
    "zoo_animals.loc[\"Koala\"] = 3\n",
    "\n",
    "zoo_animals"
   ]
  },
  {
   "cell_type": "code",
   "execution_count": null,
   "metadata": {},
   "outputs": [],
   "source": []
  }
 ],
 "metadata": {
  "kernelspec": {
   "display_name": "Python 3",
   "language": "python",
   "name": "python3"
  },
  "language_info": {
   "codemirror_mode": {
    "name": "ipython",
    "version": 3
   },
   "file_extension": ".py",
   "mimetype": "text/x-python",
   "name": "python",
   "nbconvert_exporter": "python",
   "pygments_lexer": "ipython3",
   "version": "3.11.7"
  }
 },
 "nbformat": 4,
 "nbformat_minor": 2
}
